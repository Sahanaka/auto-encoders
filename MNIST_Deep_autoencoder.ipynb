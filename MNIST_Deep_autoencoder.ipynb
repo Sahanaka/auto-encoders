{
  "nbformat": 4,
  "nbformat_minor": 0,
  "metadata": {
    "colab": {
      "name": "MNIST_Deep_autoencoder.ipynb",
      "provenance": [],
      "collapsed_sections": [],
      "authorship_tag": "ABX9TyMAdtROsnzyuv0w5KMHuKr3",
      "include_colab_link": true
    },
    "kernelspec": {
      "name": "python3",
      "display_name": "Python 3"
    },
    "language_info": {
      "name": "python"
    },
    "accelerator": "GPU",
    "widgets": {
      "application/vnd.jupyter.widget-state+json": {
        "c68c7c06704a42a2afda6355d12de576": {
          "model_module": "@jupyter-widgets/controls",
          "model_name": "HBoxModel",
          "model_module_version": "1.5.0",
          "state": {
            "_view_name": "HBoxView",
            "_dom_classes": [],
            "_model_name": "HBoxModel",
            "_view_module": "@jupyter-widgets/controls",
            "_model_module_version": "1.5.0",
            "_view_count": null,
            "_view_module_version": "1.5.0",
            "box_style": "",
            "layout": "IPY_MODEL_abc3136f7bcf4513b0123df642225efc",
            "_model_module": "@jupyter-widgets/controls",
            "children": [
              "IPY_MODEL_cd28800c9cee4c4ab16132ec630cb7d6",
              "IPY_MODEL_02fe3a320eaf4c23b4c76160625f7b76",
              "IPY_MODEL_3f42ed1a4cb847e38b04319b8fc69bd2"
            ]
          }
        },
        "abc3136f7bcf4513b0123df642225efc": {
          "model_module": "@jupyter-widgets/base",
          "model_name": "LayoutModel",
          "model_module_version": "1.2.0",
          "state": {
            "_view_name": "LayoutView",
            "grid_template_rows": null,
            "right": null,
            "justify_content": null,
            "_view_module": "@jupyter-widgets/base",
            "overflow": null,
            "_model_module_version": "1.2.0",
            "_view_count": null,
            "flex_flow": null,
            "width": null,
            "min_width": null,
            "border": null,
            "align_items": null,
            "bottom": null,
            "_model_module": "@jupyter-widgets/base",
            "top": null,
            "grid_column": null,
            "overflow_y": null,
            "overflow_x": null,
            "grid_auto_flow": null,
            "grid_area": null,
            "grid_template_columns": null,
            "flex": null,
            "_model_name": "LayoutModel",
            "justify_items": null,
            "grid_row": null,
            "max_height": null,
            "align_content": null,
            "visibility": null,
            "align_self": null,
            "height": null,
            "min_height": null,
            "padding": null,
            "grid_auto_rows": null,
            "grid_gap": null,
            "max_width": null,
            "order": null,
            "_view_module_version": "1.2.0",
            "grid_template_areas": null,
            "object_position": null,
            "object_fit": null,
            "grid_auto_columns": null,
            "margin": null,
            "display": null,
            "left": null
          }
        },
        "cd28800c9cee4c4ab16132ec630cb7d6": {
          "model_module": "@jupyter-widgets/controls",
          "model_name": "HTMLModel",
          "model_module_version": "1.5.0",
          "state": {
            "_view_name": "HTMLView",
            "style": "IPY_MODEL_ea36945d79984f2a8e68ce4f96dc82fc",
            "_dom_classes": [],
            "description": "",
            "_model_name": "HTMLModel",
            "placeholder": "​",
            "_view_module": "@jupyter-widgets/controls",
            "_model_module_version": "1.5.0",
            "value": "Dl Completed...: 100%",
            "_view_count": null,
            "_view_module_version": "1.5.0",
            "description_tooltip": null,
            "_model_module": "@jupyter-widgets/controls",
            "layout": "IPY_MODEL_8777ce1fc27549acb93c2dcd87f88535"
          }
        },
        "02fe3a320eaf4c23b4c76160625f7b76": {
          "model_module": "@jupyter-widgets/controls",
          "model_name": "FloatProgressModel",
          "model_module_version": "1.5.0",
          "state": {
            "_view_name": "ProgressView",
            "style": "IPY_MODEL_c68b3c6eea3548bc82bc650ccaa60846",
            "_dom_classes": [],
            "description": "",
            "_model_name": "FloatProgressModel",
            "bar_style": "success",
            "max": 4,
            "_view_module": "@jupyter-widgets/controls",
            "_model_module_version": "1.5.0",
            "value": 4,
            "_view_count": null,
            "_view_module_version": "1.5.0",
            "orientation": "horizontal",
            "min": 0,
            "description_tooltip": null,
            "_model_module": "@jupyter-widgets/controls",
            "layout": "IPY_MODEL_b1b2b9498ac14bb989cec83ff9e493ad"
          }
        },
        "3f42ed1a4cb847e38b04319b8fc69bd2": {
          "model_module": "@jupyter-widgets/controls",
          "model_name": "HTMLModel",
          "model_module_version": "1.5.0",
          "state": {
            "_view_name": "HTMLView",
            "style": "IPY_MODEL_1857c814f37241e49ef72479e59634cd",
            "_dom_classes": [],
            "description": "",
            "_model_name": "HTMLModel",
            "placeholder": "​",
            "_view_module": "@jupyter-widgets/controls",
            "_model_module_version": "1.5.0",
            "value": " 4/4 [00:00&lt;00:00, 11.36 file/s]",
            "_view_count": null,
            "_view_module_version": "1.5.0",
            "description_tooltip": null,
            "_model_module": "@jupyter-widgets/controls",
            "layout": "IPY_MODEL_3c4057472e114db6adc3bb9b46ffb5d7"
          }
        },
        "ea36945d79984f2a8e68ce4f96dc82fc": {
          "model_module": "@jupyter-widgets/controls",
          "model_name": "DescriptionStyleModel",
          "model_module_version": "1.5.0",
          "state": {
            "_view_name": "StyleView",
            "_model_name": "DescriptionStyleModel",
            "description_width": "",
            "_view_module": "@jupyter-widgets/base",
            "_model_module_version": "1.5.0",
            "_view_count": null,
            "_view_module_version": "1.2.0",
            "_model_module": "@jupyter-widgets/controls"
          }
        },
        "8777ce1fc27549acb93c2dcd87f88535": {
          "model_module": "@jupyter-widgets/base",
          "model_name": "LayoutModel",
          "model_module_version": "1.2.0",
          "state": {
            "_view_name": "LayoutView",
            "grid_template_rows": null,
            "right": null,
            "justify_content": null,
            "_view_module": "@jupyter-widgets/base",
            "overflow": null,
            "_model_module_version": "1.2.0",
            "_view_count": null,
            "flex_flow": null,
            "width": null,
            "min_width": null,
            "border": null,
            "align_items": null,
            "bottom": null,
            "_model_module": "@jupyter-widgets/base",
            "top": null,
            "grid_column": null,
            "overflow_y": null,
            "overflow_x": null,
            "grid_auto_flow": null,
            "grid_area": null,
            "grid_template_columns": null,
            "flex": null,
            "_model_name": "LayoutModel",
            "justify_items": null,
            "grid_row": null,
            "max_height": null,
            "align_content": null,
            "visibility": null,
            "align_self": null,
            "height": null,
            "min_height": null,
            "padding": null,
            "grid_auto_rows": null,
            "grid_gap": null,
            "max_width": null,
            "order": null,
            "_view_module_version": "1.2.0",
            "grid_template_areas": null,
            "object_position": null,
            "object_fit": null,
            "grid_auto_columns": null,
            "margin": null,
            "display": null,
            "left": null
          }
        },
        "c68b3c6eea3548bc82bc650ccaa60846": {
          "model_module": "@jupyter-widgets/controls",
          "model_name": "ProgressStyleModel",
          "model_module_version": "1.5.0",
          "state": {
            "_view_name": "StyleView",
            "_model_name": "ProgressStyleModel",
            "description_width": "",
            "_view_module": "@jupyter-widgets/base",
            "_model_module_version": "1.5.0",
            "_view_count": null,
            "_view_module_version": "1.2.0",
            "bar_color": null,
            "_model_module": "@jupyter-widgets/controls"
          }
        },
        "b1b2b9498ac14bb989cec83ff9e493ad": {
          "model_module": "@jupyter-widgets/base",
          "model_name": "LayoutModel",
          "model_module_version": "1.2.0",
          "state": {
            "_view_name": "LayoutView",
            "grid_template_rows": null,
            "right": null,
            "justify_content": null,
            "_view_module": "@jupyter-widgets/base",
            "overflow": null,
            "_model_module_version": "1.2.0",
            "_view_count": null,
            "flex_flow": null,
            "width": null,
            "min_width": null,
            "border": null,
            "align_items": null,
            "bottom": null,
            "_model_module": "@jupyter-widgets/base",
            "top": null,
            "grid_column": null,
            "overflow_y": null,
            "overflow_x": null,
            "grid_auto_flow": null,
            "grid_area": null,
            "grid_template_columns": null,
            "flex": null,
            "_model_name": "LayoutModel",
            "justify_items": null,
            "grid_row": null,
            "max_height": null,
            "align_content": null,
            "visibility": null,
            "align_self": null,
            "height": null,
            "min_height": null,
            "padding": null,
            "grid_auto_rows": null,
            "grid_gap": null,
            "max_width": null,
            "order": null,
            "_view_module_version": "1.2.0",
            "grid_template_areas": null,
            "object_position": null,
            "object_fit": null,
            "grid_auto_columns": null,
            "margin": null,
            "display": null,
            "left": null
          }
        },
        "1857c814f37241e49ef72479e59634cd": {
          "model_module": "@jupyter-widgets/controls",
          "model_name": "DescriptionStyleModel",
          "model_module_version": "1.5.0",
          "state": {
            "_view_name": "StyleView",
            "_model_name": "DescriptionStyleModel",
            "description_width": "",
            "_view_module": "@jupyter-widgets/base",
            "_model_module_version": "1.5.0",
            "_view_count": null,
            "_view_module_version": "1.2.0",
            "_model_module": "@jupyter-widgets/controls"
          }
        },
        "3c4057472e114db6adc3bb9b46ffb5d7": {
          "model_module": "@jupyter-widgets/base",
          "model_name": "LayoutModel",
          "model_module_version": "1.2.0",
          "state": {
            "_view_name": "LayoutView",
            "grid_template_rows": null,
            "right": null,
            "justify_content": null,
            "_view_module": "@jupyter-widgets/base",
            "overflow": null,
            "_model_module_version": "1.2.0",
            "_view_count": null,
            "flex_flow": null,
            "width": null,
            "min_width": null,
            "border": null,
            "align_items": null,
            "bottom": null,
            "_model_module": "@jupyter-widgets/base",
            "top": null,
            "grid_column": null,
            "overflow_y": null,
            "overflow_x": null,
            "grid_auto_flow": null,
            "grid_area": null,
            "grid_template_columns": null,
            "flex": null,
            "_model_name": "LayoutModel",
            "justify_items": null,
            "grid_row": null,
            "max_height": null,
            "align_content": null,
            "visibility": null,
            "align_self": null,
            "height": null,
            "min_height": null,
            "padding": null,
            "grid_auto_rows": null,
            "grid_gap": null,
            "max_width": null,
            "order": null,
            "_view_module_version": "1.2.0",
            "grid_template_areas": null,
            "object_position": null,
            "object_fit": null,
            "grid_auto_columns": null,
            "margin": null,
            "display": null,
            "left": null
          }
        }
      }
    }
  },
  "cells": [
    {
      "cell_type": "markdown",
      "metadata": {
        "id": "view-in-github",
        "colab_type": "text"
      },
      "source": [
        "<a href=\"https://colab.research.google.com/github/Sahanaka/auto-encoders/blob/main/MNIST_Deep_autoencoder.ipynb\" target=\"_parent\"><img src=\"https://colab.research.google.com/assets/colab-badge.svg\" alt=\"Open In Colab\"/></a>"
      ]
    },
    {
      "cell_type": "markdown",
      "metadata": {
        "id": "H9qseTLXAzuJ"
      },
      "source": [
        "# **Deep AutoEncoders**\n",
        "\n",
        "In this notebook we will implement a Deep Autoencoder for MNIST.\n"
      ]
    },
    {
      "cell_type": "markdown",
      "metadata": {
        "id": "HyFR0YZ4BAk3"
      },
      "source": [
        "## **Imports**"
      ]
    },
    {
      "cell_type": "code",
      "metadata": {
        "id": "rqOhukuMAy9h"
      },
      "source": [
        "try:\n",
        "  # %tensorflow_version only exists in Colab.\n",
        "  %tensorflow_version 2.x\n",
        "except Exception:\n",
        "  pass\n",
        "  \n",
        "import tensorflow as tf\n",
        "import tensorflow_datasets as tfds\n",
        "\n",
        "import numpy as np\n",
        "import matplotlib.pyplot as plt"
      ],
      "execution_count": 1,
      "outputs": []
    },
    {
      "cell_type": "markdown",
      "metadata": {
        "id": "gHf9FJWWBEo_"
      },
      "source": [
        "## **Load & Prepare Dataset**"
      ]
    },
    {
      "cell_type": "code",
      "metadata": {
        "id": "Y_o4hevT9eyA"
      },
      "source": [
        "def map_image(image, label):\n",
        "  '''Normalizes and flattens the image. Returns image as input and label.'''\n",
        "  image = tf.cast(image, dtype=tf.float32)\n",
        "  image = image / 255.0\n",
        "  image = tf.reshape(image, shape=(784,))\n",
        "\n",
        "  return image, image"
      ],
      "execution_count": 2,
      "outputs": []
    },
    {
      "cell_type": "code",
      "metadata": {
        "colab": {
          "base_uri": "https://localhost:8080/",
          "height": 183,
          "referenced_widgets": [
            "c68c7c06704a42a2afda6355d12de576",
            "abc3136f7bcf4513b0123df642225efc",
            "cd28800c9cee4c4ab16132ec630cb7d6",
            "02fe3a320eaf4c23b4c76160625f7b76",
            "3f42ed1a4cb847e38b04319b8fc69bd2",
            "ea36945d79984f2a8e68ce4f96dc82fc",
            "8777ce1fc27549acb93c2dcd87f88535",
            "c68b3c6eea3548bc82bc650ccaa60846",
            "b1b2b9498ac14bb989cec83ff9e493ad",
            "1857c814f37241e49ef72479e59634cd",
            "3c4057472e114db6adc3bb9b46ffb5d7"
          ]
        },
        "id": "w4aeJXBnBTB2",
        "outputId": "8c3f31b0-ebbc-4a0f-b7d8-a017c3db0ac5"
      },
      "source": [
        "# Load the train and test sets from TFDS\n",
        "\n",
        "BATCH_SIZE = 128\n",
        "SHUFFLE_BUFFER_SIZE = 1024\n",
        "\n",
        "train_dataset = tfds.load('mnist', as_supervised=True, split=\"train\")\n",
        "train_dataset = train_dataset.map(map_image)\n",
        "train_dataset = train_dataset.shuffle(SHUFFLE_BUFFER_SIZE).batch(BATCH_SIZE).repeat()\n",
        "\n",
        "test_dataset = tfds.load('mnist', as_supervised=True, split=\"test\")\n",
        "test_dataset = test_dataset.map(map_image)\n",
        "test_dataset = test_dataset.batch(BATCH_SIZE).repeat()"
      ],
      "execution_count": 3,
      "outputs": [
        {
          "output_type": "stream",
          "name": "stdout",
          "text": [
            "\u001b[1mDownloading and preparing dataset mnist/3.0.1 (download: 11.06 MiB, generated: 21.00 MiB, total: 32.06 MiB) to /root/tensorflow_datasets/mnist/3.0.1...\u001b[0m\n"
          ]
        },
        {
          "output_type": "stream",
          "name": "stderr",
          "text": [
            "WARNING:absl:Dataset mnist is hosted on GCS. It will automatically be downloaded to your\n",
            "local data directory. If you'd instead prefer to read directly from our public\n",
            "GCS bucket (recommended if you're running on GCP), you can instead pass\n",
            "`try_gcs=True` to `tfds.load` or set `data_dir=gs://tfds-data/datasets`.\n",
            "\n"
          ]
        },
        {
          "output_type": "display_data",
          "data": {
            "application/vnd.jupyter.widget-view+json": {
              "model_id": "c68c7c06704a42a2afda6355d12de576",
              "version_minor": 0,
              "version_major": 2
            },
            "text/plain": [
              "Dl Completed...:   0%|          | 0/4 [00:00<?, ? file/s]"
            ]
          },
          "metadata": {}
        },
        {
          "output_type": "stream",
          "name": "stdout",
          "text": [
            "\n",
            "\u001b[1mDataset mnist downloaded and prepared to /root/tensorflow_datasets/mnist/3.0.1. Subsequent calls will reuse this data.\u001b[0m\n"
          ]
        }
      ]
    },
    {
      "cell_type": "markdown",
      "metadata": {
        "id": "VpZhOnHSBIcB"
      },
      "source": [
        "## **Model**"
      ]
    },
    {
      "cell_type": "code",
      "metadata": {
        "id": "kGCzzXOSBVng"
      },
      "source": [
        "# We will use dense layers for encoder and decoder\n",
        "def deep_autoencoder():\n",
        "  encoder = tf.keras.layers.Dense(units=128, activation='relu')(inputs)\n",
        "  encoder = tf.keras.layers.Dense(units=64, activation='relu')(encoder)\n",
        "  encoder = tf.keras.layers.Dense(units=32, activation='relu')(encoder)\n",
        "\n",
        "  decoder = tf.keras.layers.Dense(units=64, activation='relu')(encoder)\n",
        "  decoder = tf.keras.layers.Dense(units=128, activation='relu')(decoder)\n",
        "  decoder = tf.keras.layers.Dense(units=784, activation='sigmoid')(decoder)\n",
        "\n",
        "  return encoder, decoder"
      ],
      "execution_count": 4,
      "outputs": []
    },
    {
      "cell_type": "code",
      "metadata": {
        "id": "xqAiYoMbB5XY"
      },
      "source": [
        "# set the input tensor\n",
        "inputs =  tf.keras.layers.Input(shape=(784,))\n",
        "\n",
        "# get the encoder and decoder output\n",
        "deep_encoder_output, deep_autoencoder_output = deep_autoencoder()\n",
        "\n",
        "# setup the encoder because you will visualize its output later\n",
        "deep_encoder_model = tf.keras.Model(inputs=inputs, outputs=deep_encoder_output)\n",
        "\n",
        "# setup the autoencoder\n",
        "deep_autoencoder_model = tf.keras.Model(inputs=inputs, outputs=deep_autoencoder_output)"
      ],
      "execution_count": 5,
      "outputs": []
    },
    {
      "cell_type": "markdown",
      "metadata": {
        "id": "GylIMP2HCA3Z"
      },
      "source": [
        "### Compile and Train the Model"
      ]
    },
    {
      "cell_type": "code",
      "metadata": {
        "colab": {
          "base_uri": "https://localhost:8080/"
        },
        "id": "2yihbhQSCFS4",
        "outputId": "2b8ed131-ddc9-4828-9b1c-985946985e4f"
      },
      "source": [
        "train_steps = 60000 // BATCH_SIZE\n",
        "\n",
        "deep_autoencoder_model.compile(optimizer=tf.keras.optimizers.Adam(), loss='binary_crossentropy')\n",
        "deep_auto_history = deep_autoencoder_model.fit(train_dataset, steps_per_epoch=train_steps, epochs=50)"
      ],
      "execution_count": 6,
      "outputs": [
        {
          "output_type": "stream",
          "name": "stdout",
          "text": [
            "Epoch 1/50\n",
            "468/468 [==============================] - 16s 26ms/step - loss: 0.2056\n",
            "Epoch 2/50\n",
            "468/468 [==============================] - 6s 13ms/step - loss: 0.1333\n",
            "Epoch 3/50\n",
            "468/468 [==============================] - 6s 13ms/step - loss: 0.1201\n",
            "Epoch 4/50\n",
            "468/468 [==============================] - 6s 13ms/step - loss: 0.1133\n",
            "Epoch 5/50\n",
            "468/468 [==============================] - 6s 14ms/step - loss: 0.1084\n",
            "Epoch 6/50\n",
            "468/468 [==============================] - 6s 13ms/step - loss: 0.1045\n",
            "Epoch 7/50\n",
            "468/468 [==============================] - 6s 13ms/step - loss: 0.1016\n",
            "Epoch 8/50\n",
            "468/468 [==============================] - 6s 13ms/step - loss: 0.0994\n",
            "Epoch 9/50\n",
            "468/468 [==============================] - 6s 13ms/step - loss: 0.0977\n",
            "Epoch 10/50\n",
            "468/468 [==============================] - 6s 13ms/step - loss: 0.0964\n",
            "Epoch 11/50\n",
            "468/468 [==============================] - 6s 13ms/step - loss: 0.0953\n",
            "Epoch 12/50\n",
            "468/468 [==============================] - 6s 13ms/step - loss: 0.0943\n",
            "Epoch 13/50\n",
            "468/468 [==============================] - 6s 13ms/step - loss: 0.0934\n",
            "Epoch 14/50\n",
            "468/468 [==============================] - 6s 13ms/step - loss: 0.0926\n",
            "Epoch 15/50\n",
            "468/468 [==============================] - 6s 13ms/step - loss: 0.0921\n",
            "Epoch 16/50\n",
            "468/468 [==============================] - 6s 13ms/step - loss: 0.0914\n",
            "Epoch 17/50\n",
            "468/468 [==============================] - 6s 13ms/step - loss: 0.0910\n",
            "Epoch 18/50\n",
            "468/468 [==============================] - 6s 13ms/step - loss: 0.0905\n",
            "Epoch 19/50\n",
            "468/468 [==============================] - 6s 13ms/step - loss: 0.0901\n",
            "Epoch 20/50\n",
            "468/468 [==============================] - 6s 13ms/step - loss: 0.0898\n",
            "Epoch 21/50\n",
            "468/468 [==============================] - 6s 13ms/step - loss: 0.0895\n",
            "Epoch 22/50\n",
            "468/468 [==============================] - 6s 13ms/step - loss: 0.0892\n",
            "Epoch 23/50\n",
            "468/468 [==============================] - 6s 13ms/step - loss: 0.0890\n",
            "Epoch 24/50\n",
            "468/468 [==============================] - 6s 13ms/step - loss: 0.0887\n",
            "Epoch 25/50\n",
            "468/468 [==============================] - 6s 13ms/step - loss: 0.0886\n",
            "Epoch 26/50\n",
            "468/468 [==============================] - 6s 13ms/step - loss: 0.0884\n",
            "Epoch 27/50\n",
            "468/468 [==============================] - 6s 13ms/step - loss: 0.0881\n",
            "Epoch 28/50\n",
            "468/468 [==============================] - 6s 12ms/step - loss: 0.0880\n",
            "Epoch 29/50\n",
            "468/468 [==============================] - 6s 13ms/step - loss: 0.0878\n",
            "Epoch 30/50\n",
            "468/468 [==============================] - 6s 13ms/step - loss: 0.0876\n",
            "Epoch 31/50\n",
            "468/468 [==============================] - 6s 13ms/step - loss: 0.0873\n",
            "Epoch 32/50\n",
            "468/468 [==============================] - 6s 13ms/step - loss: 0.0870\n",
            "Epoch 33/50\n",
            "468/468 [==============================] - 6s 13ms/step - loss: 0.0868\n",
            "Epoch 34/50\n",
            "468/468 [==============================] - 6s 13ms/step - loss: 0.0866\n",
            "Epoch 35/50\n",
            "468/468 [==============================] - 6s 13ms/step - loss: 0.0864\n",
            "Epoch 36/50\n",
            "468/468 [==============================] - 6s 13ms/step - loss: 0.0863\n",
            "Epoch 37/50\n",
            "468/468 [==============================] - 6s 13ms/step - loss: 0.0861\n",
            "Epoch 38/50\n",
            "468/468 [==============================] - 6s 13ms/step - loss: 0.0858\n",
            "Epoch 39/50\n",
            "468/468 [==============================] - 6s 13ms/step - loss: 0.0854\n",
            "Epoch 40/50\n",
            "468/468 [==============================] - 6s 13ms/step - loss: 0.0852\n",
            "Epoch 41/50\n",
            "468/468 [==============================] - 6s 13ms/step - loss: 0.0850\n",
            "Epoch 42/50\n",
            "468/468 [==============================] - 6s 13ms/step - loss: 0.0848\n",
            "Epoch 43/50\n",
            "468/468 [==============================] - 6s 13ms/step - loss: 0.0847\n",
            "Epoch 44/50\n",
            "468/468 [==============================] - 6s 13ms/step - loss: 0.0845\n",
            "Epoch 45/50\n",
            "468/468 [==============================] - 6s 13ms/step - loss: 0.0844\n",
            "Epoch 46/50\n",
            "468/468 [==============================] - 6s 13ms/step - loss: 0.0843\n",
            "Epoch 47/50\n",
            "468/468 [==============================] - 6s 13ms/step - loss: 0.0842\n",
            "Epoch 48/50\n",
            "468/468 [==============================] - 6s 13ms/step - loss: 0.0841\n",
            "Epoch 49/50\n",
            "468/468 [==============================] - 6s 13ms/step - loss: 0.0840\n",
            "Epoch 50/50\n",
            "468/468 [==============================] - 6s 13ms/step - loss: 0.0839\n"
          ]
        }
      ]
    },
    {
      "cell_type": "markdown",
      "metadata": {
        "id": "avd4tjSYAsE9"
      },
      "source": [
        "## **Results**"
      ]
    },
    {
      "cell_type": "code",
      "metadata": {
        "id": "v7c19YF2BNuA"
      },
      "source": [
        "def display_one_row(disp_images, offset, shape=(28, 28)):\n",
        "  '''Display sample outputs in one row.'''\n",
        "  for idx, test_image in enumerate(disp_images):\n",
        "    plt.subplot(3, 10, offset + idx + 1)\n",
        "    plt.xticks([])\n",
        "    plt.yticks([])\n",
        "    test_image = np.reshape(test_image, shape)\n",
        "    plt.imshow(test_image, cmap='gray')\n",
        "\n",
        "\n",
        "def display_results(disp_input_images, disp_encoded, disp_predicted, enc_shape=(8,4)):\n",
        "  '''Displays the input, encoded, and decoded output values.'''\n",
        "  plt.figure(figsize=(15, 5))\n",
        "  display_one_row(disp_input_images, 0, shape=(28,28,))\n",
        "  display_one_row(disp_encoded, 10, shape=enc_shape)\n",
        "  display_one_row(disp_predicted, 20, shape=(28,28,))"
      ],
      "execution_count": 7,
      "outputs": []
    },
    {
      "cell_type": "code",
      "metadata": {
        "colab": {
          "base_uri": "https://localhost:8080/",
          "height": 297
        },
        "id": "yfMI1RQrBakw",
        "outputId": "6f5ac036-8fee-44e5-f9dd-449a70852345"
      },
      "source": [
        "# take 1 batch of the dataset\n",
        "test_dataset = test_dataset.take(1)\n",
        "\n",
        "# take the input images and put them in a list\n",
        "output_samples = []\n",
        "for input_image, image in tfds.as_numpy(test_dataset):\n",
        "      output_samples = input_image\n",
        "\n",
        "# pick 10 random numbers to be used as indices to the list above\n",
        "idxs = np.random.choice(BATCH_SIZE, size=10)\n",
        "\n",
        "# get the encoder output\n",
        "encoded_predicted = deep_encoder_model.predict(test_dataset)\n",
        "\n",
        "# get a prediction for the test batch\n",
        "deep_predicted = deep_autoencoder_model.predict(test_dataset)\n",
        "\n",
        "# display the 10 samples, encodings and decoded values!\n",
        "display_results(output_samples[idxs], encoded_predicted[idxs], deep_predicted[idxs])"
      ],
      "execution_count": 8,
      "outputs": [
        {
          "output_type": "display_data",
          "data": {
            "image/png": "[encoded data removed]",
            "text/plain": [
              "<Figure size 1080x360 with 30 Axes>"
            ]
          },
          "metadata": {}
        }
      ]
    }
  ]
}