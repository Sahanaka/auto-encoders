{
  "nbformat": 4,
  "nbformat_minor": 0,
  "metadata": {
    "colab": {
      "name": "MNIST_autoencoder.ipynb",
      "provenance": [],
      "authorship_tag": "ABX9TyNTv8lDU11A9vZ4LLpQPRX/",
      "include_colab_link": true
    },
    "kernelspec": {
      "name": "python3",
      "display_name": "Python 3"
    },
    "language_info": {
      "name": "python"
    },
    "accelerator": "GPU",
    "widgets": {
      "application/vnd.jupyter.widget-state+json": {
        "0c09ac873e514748892530beeea94636": {
          "model_module": "@jupyter-widgets/controls",
          "model_name": "HBoxModel",
          "model_module_version": "1.5.0",
          "state": {
            "_view_name": "HBoxView",
            "_dom_classes": [],
            "_model_name": "HBoxModel",
            "_view_module": "@jupyter-widgets/controls",
            "_model_module_version": "1.5.0",
            "_view_count": null,
            "_view_module_version": "1.5.0",
            "box_style": "",
            "layout": "IPY_MODEL_b4f3567aede541e3a0fb84281bc96b95",
            "_model_module": "@jupyter-widgets/controls",
            "children": [
              "IPY_MODEL_6b6badba0e47470c954dd6762a2f45ec",
              "IPY_MODEL_73072a32abc1496b912aa49cf36268bc",
              "IPY_MODEL_52fa35d45a48497b802542b53376080a"
            ]
          }
        },
        "b4f3567aede541e3a0fb84281bc96b95": {
          "model_module": "@jupyter-widgets/base",
          "model_name": "LayoutModel",
          "model_module_version": "1.2.0",
          "state": {
            "_view_name": "LayoutView",
            "grid_template_rows": null,
            "right": null,
            "justify_content": null,
            "_view_module": "@jupyter-widgets/base",
            "overflow": null,
            "_model_module_version": "1.2.0",
            "_view_count": null,
            "flex_flow": null,
            "width": null,
            "min_width": null,
            "border": null,
            "align_items": null,
            "bottom": null,
            "_model_module": "@jupyter-widgets/base",
            "top": null,
            "grid_column": null,
            "overflow_y": null,
            "overflow_x": null,
            "grid_auto_flow": null,
            "grid_area": null,
            "grid_template_columns": null,
            "flex": null,
            "_model_name": "LayoutModel",
            "justify_items": null,
            "grid_row": null,
            "max_height": null,
            "align_content": null,
            "visibility": null,
            "align_self": null,
            "height": null,
            "min_height": null,
            "padding": null,
            "grid_auto_rows": null,
            "grid_gap": null,
            "max_width": null,
            "order": null,
            "_view_module_version": "1.2.0",
            "grid_template_areas": null,
            "object_position": null,
            "object_fit": null,
            "grid_auto_columns": null,
            "margin": null,
            "display": null,
            "left": null
          }
        },
        "6b6badba0e47470c954dd6762a2f45ec": {
          "model_module": "@jupyter-widgets/controls",
          "model_name": "HTMLModel",
          "model_module_version": "1.5.0",
          "state": {
            "_view_name": "HTMLView",
            "style": "IPY_MODEL_b705c325de344054b7ab3ccce367e18a",
            "_dom_classes": [],
            "description": "",
            "_model_name": "HTMLModel",
            "placeholder": "​",
            "_view_module": "@jupyter-widgets/controls",
            "_model_module_version": "1.5.0",
            "value": "Dl Completed...: 100%",
            "_view_count": null,
            "_view_module_version": "1.5.0",
            "description_tooltip": null,
            "_model_module": "@jupyter-widgets/controls",
            "layout": "IPY_MODEL_88305b1b48d04744b32308e8df2aae72"
          }
        },
        "73072a32abc1496b912aa49cf36268bc": {
          "model_module": "@jupyter-widgets/controls",
          "model_name": "FloatProgressModel",
          "model_module_version": "1.5.0",
          "state": {
            "_view_name": "ProgressView",
            "style": "IPY_MODEL_d716b13bf1ed445ba6826463f211b1c6",
            "_dom_classes": [],
            "description": "",
            "_model_name": "FloatProgressModel",
            "bar_style": "success",
            "max": 4,
            "_view_module": "@jupyter-widgets/controls",
            "_model_module_version": "1.5.0",
            "value": 4,
            "_view_count": null,
            "_view_module_version": "1.5.0",
            "orientation": "horizontal",
            "min": 0,
            "description_tooltip": null,
            "_model_module": "@jupyter-widgets/controls",
            "layout": "IPY_MODEL_a645ea41ba6d4b28bb14a43cd63171c8"
          }
        },
        "52fa35d45a48497b802542b53376080a": {
          "model_module": "@jupyter-widgets/controls",
          "model_name": "HTMLModel",
          "model_module_version": "1.5.0",
          "state": {
            "_view_name": "HTMLView",
            "style": "IPY_MODEL_67a72979efc9420b936b0f9f2d37f59c",
            "_dom_classes": [],
            "description": "",
            "_model_name": "HTMLModel",
            "placeholder": "​",
            "_view_module": "@jupyter-widgets/controls",
            "_model_module_version": "1.5.0",
            "value": " 4/4 [00:00&lt;00:00,  7.04 file/s]",
            "_view_count": null,
            "_view_module_version": "1.5.0",
            "description_tooltip": null,
            "_model_module": "@jupyter-widgets/controls",
            "layout": "IPY_MODEL_78785df88bd3499c90565500a4751de7"
          }
        },
        "b705c325de344054b7ab3ccce367e18a": {
          "model_module": "@jupyter-widgets/controls",
          "model_name": "DescriptionStyleModel",
          "model_module_version": "1.5.0",
          "state": {
            "_view_name": "StyleView",
            "_model_name": "DescriptionStyleModel",
            "description_width": "",
            "_view_module": "@jupyter-widgets/base",
            "_model_module_version": "1.5.0",
            "_view_count": null,
            "_view_module_version": "1.2.0",
            "_model_module": "@jupyter-widgets/controls"
          }
        },
        "88305b1b48d04744b32308e8df2aae72": {
          "model_module": "@jupyter-widgets/base",
          "model_name": "LayoutModel",
          "model_module_version": "1.2.0",
          "state": {
            "_view_name": "LayoutView",
            "grid_template_rows": null,
            "right": null,
            "justify_content": null,
            "_view_module": "@jupyter-widgets/base",
            "overflow": null,
            "_model_module_version": "1.2.0",
            "_view_count": null,
            "flex_flow": null,
            "width": null,
            "min_width": null,
            "border": null,
            "align_items": null,
            "bottom": null,
            "_model_module": "@jupyter-widgets/base",
            "top": null,
            "grid_column": null,
            "overflow_y": null,
            "overflow_x": null,
            "grid_auto_flow": null,
            "grid_area": null,
            "grid_template_columns": null,
            "flex": null,
            "_model_name": "LayoutModel",
            "justify_items": null,
            "grid_row": null,
            "max_height": null,
            "align_content": null,
            "visibility": null,
            "align_self": null,
            "height": null,
            "min_height": null,
            "padding": null,
            "grid_auto_rows": null,
            "grid_gap": null,
            "max_width": null,
            "order": null,
            "_view_module_version": "1.2.0",
            "grid_template_areas": null,
            "object_position": null,
            "object_fit": null,
            "grid_auto_columns": null,
            "margin": null,
            "display": null,
            "left": null
          }
        },
        "d716b13bf1ed445ba6826463f211b1c6": {
          "model_module": "@jupyter-widgets/controls",
          "model_name": "ProgressStyleModel",
          "model_module_version": "1.5.0",
          "state": {
            "_view_name": "StyleView",
            "_model_name": "ProgressStyleModel",
            "description_width": "",
            "_view_module": "@jupyter-widgets/base",
            "_model_module_version": "1.5.0",
            "_view_count": null,
            "_view_module_version": "1.2.0",
            "bar_color": null,
            "_model_module": "@jupyter-widgets/controls"
          }
        },
        "a645ea41ba6d4b28bb14a43cd63171c8": {
          "model_module": "@jupyter-widgets/base",
          "model_name": "LayoutModel",
          "model_module_version": "1.2.0",
          "state": {
            "_view_name": "LayoutView",
            "grid_template_rows": null,
            "right": null,
            "justify_content": null,
            "_view_module": "@jupyter-widgets/base",
            "overflow": null,
            "_model_module_version": "1.2.0",
            "_view_count": null,
            "flex_flow": null,
            "width": null,
            "min_width": null,
            "border": null,
            "align_items": null,
            "bottom": null,
            "_model_module": "@jupyter-widgets/base",
            "top": null,
            "grid_column": null,
            "overflow_y": null,
            "overflow_x": null,
            "grid_auto_flow": null,
            "grid_area": null,
            "grid_template_columns": null,
            "flex": null,
            "_model_name": "LayoutModel",
            "justify_items": null,
            "grid_row": null,
            "max_height": null,
            "align_content": null,
            "visibility": null,
            "align_self": null,
            "height": null,
            "min_height": null,
            "padding": null,
            "grid_auto_rows": null,
            "grid_gap": null,
            "max_width": null,
            "order": null,
            "_view_module_version": "1.2.0",
            "grid_template_areas": null,
            "object_position": null,
            "object_fit": null,
            "grid_auto_columns": null,
            "margin": null,
            "display": null,
            "left": null
          }
        },
        "67a72979efc9420b936b0f9f2d37f59c": {
          "model_module": "@jupyter-widgets/controls",
          "model_name": "DescriptionStyleModel",
          "model_module_version": "1.5.0",
          "state": {
            "_view_name": "StyleView",
            "_model_name": "DescriptionStyleModel",
            "description_width": "",
            "_view_module": "@jupyter-widgets/base",
            "_model_module_version": "1.5.0",
            "_view_count": null,
            "_view_module_version": "1.2.0",
            "_model_module": "@jupyter-widgets/controls"
          }
        },
        "78785df88bd3499c90565500a4751de7": {
          "model_module": "@jupyter-widgets/base",
          "model_name": "LayoutModel",
          "model_module_version": "1.2.0",
          "state": {
            "_view_name": "LayoutView",
            "grid_template_rows": null,
            "right": null,
            "justify_content": null,
            "_view_module": "@jupyter-widgets/base",
            "overflow": null,
            "_model_module_version": "1.2.0",
            "_view_count": null,
            "flex_flow": null,
            "width": null,
            "min_width": null,
            "border": null,
            "align_items": null,
            "bottom": null,
            "_model_module": "@jupyter-widgets/base",
            "top": null,
            "grid_column": null,
            "overflow_y": null,
            "overflow_x": null,
            "grid_auto_flow": null,
            "grid_area": null,
            "grid_template_columns": null,
            "flex": null,
            "_model_name": "LayoutModel",
            "justify_items": null,
            "grid_row": null,
            "max_height": null,
            "align_content": null,
            "visibility": null,
            "align_self": null,
            "height": null,
            "min_height": null,
            "padding": null,
            "grid_auto_rows": null,
            "grid_gap": null,
            "max_width": null,
            "order": null,
            "_view_module_version": "1.2.0",
            "grid_template_areas": null,
            "object_position": null,
            "object_fit": null,
            "grid_auto_columns": null,
            "margin": null,
            "display": null,
            "left": null
          }
        }
      }
    }
  },
  "cells": [
    {
      "cell_type": "markdown",
      "metadata": {
        "id": "view-in-github",
        "colab_type": "text"
      },
      "source": [
        "<a href=\"https://colab.research.google.com/github/Sahanaka/auto-encoders/blob/main/MNIST_autoencoder.ipynb\" target=\"_parent\"><img src=\"https://colab.research.google.com/assets/colab-badge.svg\" alt=\"Open In Colab\"/></a>"
      ]
    },
    {
      "cell_type": "markdown",
      "metadata": {
        "id": "_9EgWOHO3wap"
      },
      "source": [
        "# **AutoEncoder for MNIST**\n",
        "\n",
        "The Encoder will encode the images to lower resolution images and the deocoder will upsample them to the original shape."
      ]
    },
    {
      "cell_type": "markdown",
      "metadata": {
        "id": "Uw4GTED84fFf"
      },
      "source": [
        "## **Imports**"
      ]
    },
    {
      "cell_type": "code",
      "metadata": {
        "id": "gzBohPqx3rlj"
      },
      "source": [
        "try:\n",
        "  # %tensorflow_version only exists in Colab.\n",
        "  %tensorflow_version 2.x\n",
        "except Exception:\n",
        "  pass\n",
        "  \n",
        "import tensorflow as tf\n",
        "import tensorflow_datasets as tfds\n",
        "\n",
        "import numpy as np\n",
        "import matplotlib.pyplot as plt"
      ],
      "execution_count": 1,
      "outputs": []
    },
    {
      "cell_type": "markdown",
      "metadata": {
        "id": "gl0PwQQJ4ahf"
      },
      "source": [
        "## **Prepare and load the dataset**"
      ]
    },
    {
      "cell_type": "code",
      "metadata": {
        "id": "7NOm8r6z4MLo"
      },
      "source": [
        "# Returns image as the image and the label\n",
        "def map_image(image, label):\n",
        "  image = tf.cast(image, dtype=tf.float32)\n",
        "  image = image / 255.0\n",
        "  image = tf.reshape(image, shape=(784,))\n",
        "\n",
        "  return image, image"
      ],
      "execution_count": 2,
      "outputs": []
    },
    {
      "cell_type": "code",
      "metadata": {
        "colab": {
          "base_uri": "https://localhost:8080/",
          "height": 183,
          "referenced_widgets": [
            "0c09ac873e514748892530beeea94636",
            "b4f3567aede541e3a0fb84281bc96b95",
            "6b6badba0e47470c954dd6762a2f45ec",
            "73072a32abc1496b912aa49cf36268bc",
            "52fa35d45a48497b802542b53376080a",
            "b705c325de344054b7ab3ccce367e18a",
            "88305b1b48d04744b32308e8df2aae72",
            "d716b13bf1ed445ba6826463f211b1c6",
            "a645ea41ba6d4b28bb14a43cd63171c8",
            "67a72979efc9420b936b0f9f2d37f59c",
            "78785df88bd3499c90565500a4751de7"
          ]
        },
        "id": "aM7VE3j_4r_A",
        "outputId": "57d8b175-c3ee-486e-bb92-8979486b634e"
      },
      "source": [
        "# Load from TFDS\n",
        "BATCH_SIZE = 128\n",
        "SHUFFLE_BUFFER_SIZE = 1024\n",
        "\n",
        "train_dataset = tfds.load('mnist', as_supervised=True, split=\"train\")\n",
        "train_dataset = train_dataset.map(map_image)\n",
        "train_dataset = train_dataset.shuffle(SHUFFLE_BUFFER_SIZE).batch(BATCH_SIZE).repeat()\n",
        "\n",
        "test_dataset = tfds.load('mnist', as_supervised=True, split='test')\n",
        "test_dataset = test_dataset.map(map_image)\n",
        "test_dataset = test_dataset.batch(BATCH_SIZE).repeat() # Don't shuffle the test set"
      ],
      "execution_count": 3,
      "outputs": [
        {
          "output_type": "stream",
          "name": "stdout",
          "text": [
            "\u001b[1mDownloading and preparing dataset mnist/3.0.1 (download: 11.06 MiB, generated: 21.00 MiB, total: 32.06 MiB) to /root/tensorflow_datasets/mnist/3.0.1...\u001b[0m\n"
          ]
        },
        {
          "output_type": "stream",
          "name": "stderr",
          "text": [
            "WARNING:absl:Dataset mnist is hosted on GCS. It will automatically be downloaded to your\n",
            "local data directory. If you'd instead prefer to read directly from our public\n",
            "GCS bucket (recommended if you're running on GCP), you can instead pass\n",
            "`try_gcs=True` to `tfds.load` or set `data_dir=gs://tfds-data/datasets`.\n",
            "\n"
          ]
        },
        {
          "output_type": "display_data",
          "data": {
            "application/vnd.jupyter.widget-view+json": {
              "model_id": "0c09ac873e514748892530beeea94636",
              "version_minor": 0,
              "version_major": 2
            },
            "text/plain": [
              "Dl Completed...:   0%|          | 0/4 [00:00<?, ? file/s]"
            ]
          },
          "metadata": {}
        },
        {
          "output_type": "stream",
          "name": "stdout",
          "text": [
            "\n",
            "\u001b[1mDataset mnist downloaded and prepared to /root/tensorflow_datasets/mnist/3.0.1. Subsequent calls will reuse this data.\u001b[0m\n"
          ]
        }
      ]
    },
    {
      "cell_type": "markdown",
      "metadata": {
        "id": "UkQ0uNao5gNn"
      },
      "source": [
        "## **Model**"
      ]
    },
    {
      "cell_type": "code",
      "metadata": {
        "id": "cC-5YRAv5dHC"
      },
      "source": [
        "# Encoder reduces the shape to 32 x 32\n",
        "def simple_autoencoder(inputs):\n",
        "  encoder = tf.keras.layers.Dense(units=32, activation='relu')(inputs)\n",
        "  decoder = tf.keras.layers.Dense(units=784, activation='sigmoid')(encoder)\n",
        "\n",
        "  return encoder, decoder"
      ],
      "execution_count": 4,
      "outputs": []
    },
    {
      "cell_type": "code",
      "metadata": {
        "id": "LCLTr3NA5xOu"
      },
      "source": [
        "inputs = tf.keras.layers.Input(shape=(784, ))\n",
        "encoder_output, decoder_output = simple_autoencoder(inputs)"
      ],
      "execution_count": 5,
      "outputs": []
    },
    {
      "cell_type": "code",
      "metadata": {
        "id": "kjaseebs6M4n"
      },
      "source": [
        "# Setup the encoder for visualization\n",
        "encoder_model = tf.keras.Model(inputs=inputs, outputs=encoder_output)\n"
      ],
      "execution_count": 6,
      "outputs": []
    },
    {
      "cell_type": "code",
      "metadata": {
        "id": "yBv4_Xou6e2n"
      },
      "source": [
        "# Setup the auto encoder\n",
        "auto_encoder_mnist = tf.keras.Model(inputs=inputs, outputs=decoder_output)"
      ],
      "execution_count": 7,
      "outputs": []
    },
    {
      "cell_type": "markdown",
      "metadata": {
        "id": "GM97FbvB60CP"
      },
      "source": [
        "### Compile the Model"
      ]
    },
    {
      "cell_type": "code",
      "metadata": {
        "id": "Zi8_tXtR6wEv"
      },
      "source": [
        "auto_encoder_mnist.compile(\n",
        "    optimizer=tf.keras.optimizers.Adam(), \n",
        "    loss='binary_crossentropy')"
      ],
      "execution_count": 8,
      "outputs": []
    },
    {
      "cell_type": "markdown",
      "metadata": {
        "id": "4LZtuMbw67Up"
      },
      "source": [
        "### Train the Model"
      ]
    },
    {
      "cell_type": "code",
      "metadata": {
        "colab": {
          "base_uri": "https://localhost:8080/"
        },
        "id": "mCMSlg0w6193",
        "outputId": "091f1e45-5be0-44e9-b68f-5b0dff26e461"
      },
      "source": [
        "train_steps = 60000 // BATCH_SIZE\n",
        "history = auto_encoder_mnist.fit(train_dataset, steps_per_epoch=train_steps, epochs=50)"
      ],
      "execution_count": 10,
      "outputs": [
        {
          "output_type": "stream",
          "name": "stdout",
          "text": [
            "Epoch 1/50\n",
            "468/468 [==============================] - 15s 26ms/step - loss: 0.2278\n",
            "Epoch 2/50\n",
            "468/468 [==============================] - 5s 12ms/step - loss: 0.1413\n",
            "Epoch 3/50\n",
            "468/468 [==============================] - 6s 12ms/step - loss: 0.1192\n",
            "Epoch 4/50\n",
            "468/468 [==============================] - 5s 12ms/step - loss: 0.1074\n",
            "Epoch 5/50\n",
            "468/468 [==============================] - 5s 12ms/step - loss: 0.1009\n",
            "Epoch 6/50\n",
            "468/468 [==============================] - 5s 12ms/step - loss: 0.0975\n",
            "Epoch 7/50\n",
            "468/468 [==============================] - 6s 12ms/step - loss: 0.0958\n",
            "Epoch 8/50\n",
            "468/468 [==============================] - 5s 11ms/step - loss: 0.0950\n",
            "Epoch 9/50\n",
            "468/468 [==============================] - 6s 12ms/step - loss: 0.0944\n",
            "Epoch 10/50\n",
            "468/468 [==============================] - 5s 12ms/step - loss: 0.0942\n",
            "Epoch 11/50\n",
            "468/468 [==============================] - 5s 12ms/step - loss: 0.0939\n",
            "Epoch 12/50\n",
            "468/468 [==============================] - 5s 11ms/step - loss: 0.0938\n",
            "Epoch 13/50\n",
            "468/468 [==============================] - 6s 12ms/step - loss: 0.0937\n",
            "Epoch 14/50\n",
            "468/468 [==============================] - 5s 12ms/step - loss: 0.0935\n",
            "Epoch 15/50\n",
            "468/468 [==============================] - 6s 12ms/step - loss: 0.0935\n",
            "Epoch 16/50\n",
            "468/468 [==============================] - 5s 12ms/step - loss: 0.0934\n",
            "Epoch 17/50\n",
            "468/468 [==============================] - 6s 12ms/step - loss: 0.0933\n",
            "Epoch 18/50\n",
            "468/468 [==============================] - 5s 11ms/step - loss: 0.0933\n",
            "Epoch 19/50\n",
            "468/468 [==============================] - 5s 12ms/step - loss: 0.0932\n",
            "Epoch 20/50\n",
            "468/468 [==============================] - 5s 11ms/step - loss: 0.0932\n",
            "Epoch 21/50\n",
            "468/468 [==============================] - 5s 11ms/step - loss: 0.0932\n",
            "Epoch 22/50\n",
            "468/468 [==============================] - 5s 11ms/step - loss: 0.0931\n",
            "Epoch 23/50\n",
            "468/468 [==============================] - 5s 12ms/step - loss: 0.0931\n",
            "Epoch 24/50\n",
            "468/468 [==============================] - 5s 11ms/step - loss: 0.0931\n",
            "Epoch 25/50\n",
            "468/468 [==============================] - 5s 12ms/step - loss: 0.0930\n",
            "Epoch 26/50\n",
            "468/468 [==============================] - 5s 11ms/step - loss: 0.0930\n",
            "Epoch 27/50\n",
            "468/468 [==============================] - 5s 12ms/step - loss: 0.0930\n",
            "Epoch 28/50\n",
            "468/468 [==============================] - 6s 12ms/step - loss: 0.0930\n",
            "Epoch 29/50\n",
            "468/468 [==============================] - 5s 11ms/step - loss: 0.0929\n",
            "Epoch 30/50\n",
            "468/468 [==============================] - 5s 12ms/step - loss: 0.0930\n",
            "Epoch 31/50\n",
            "468/468 [==============================] - 5s 12ms/step - loss: 0.0929\n",
            "Epoch 32/50\n",
            "468/468 [==============================] - 5s 12ms/step - loss: 0.0929\n",
            "Epoch 33/50\n",
            "468/468 [==============================] - 5s 12ms/step - loss: 0.0929\n",
            "Epoch 34/50\n",
            "468/468 [==============================] - 5s 12ms/step - loss: 0.0928\n",
            "Epoch 35/50\n",
            "468/468 [==============================] - 5s 11ms/step - loss: 0.0929\n",
            "Epoch 36/50\n",
            "468/468 [==============================] - 5s 11ms/step - loss: 0.0928\n",
            "Epoch 37/50\n",
            "468/468 [==============================] - 5s 12ms/step - loss: 0.0928\n",
            "Epoch 38/50\n",
            "468/468 [==============================] - 6s 12ms/step - loss: 0.0928\n",
            "Epoch 39/50\n",
            "468/468 [==============================] - 5s 12ms/step - loss: 0.0928\n",
            "Epoch 40/50\n",
            "468/468 [==============================] - 6s 12ms/step - loss: 0.0927\n",
            "Epoch 41/50\n",
            "468/468 [==============================] - 6s 12ms/step - loss: 0.0928\n",
            "Epoch 42/50\n",
            "468/468 [==============================] - 5s 12ms/step - loss: 0.0927\n",
            "Epoch 43/50\n",
            "468/468 [==============================] - 5s 12ms/step - loss: 0.0927\n",
            "Epoch 44/50\n",
            "468/468 [==============================] - 6s 12ms/step - loss: 0.0927\n",
            "Epoch 45/50\n",
            "468/468 [==============================] - 6s 12ms/step - loss: 0.0927\n",
            "Epoch 46/50\n",
            "468/468 [==============================] - 5s 12ms/step - loss: 0.0927\n",
            "Epoch 47/50\n",
            "468/468 [==============================] - 5s 11ms/step - loss: 0.0927\n",
            "Epoch 48/50\n",
            "468/468 [==============================] - 5s 11ms/step - loss: 0.0927\n",
            "Epoch 49/50\n",
            "468/468 [==============================] - 5s 12ms/step - loss: 0.0927\n",
            "Epoch 50/50\n",
            "468/468 [==============================] - 5s 12ms/step - loss: 0.0926\n"
          ]
        }
      ]
    },
    {
      "cell_type": "markdown",
      "metadata": {
        "id": "hdalEGXn7Iyp"
      },
      "source": [
        "## **Display Results**\n",
        "\n",
        "The following results will help to visualize the results"
      ]
    },
    {
      "cell_type": "code",
      "metadata": {
        "id": "4FWMHA1H7LN3"
      },
      "source": [
        "def display_one_row(disp_images, offset, shape=(28, 28)):\n",
        "  '''Display sample outputs in one row.'''\n",
        "  for idx, test_image in enumerate(disp_images):\n",
        "    plt.subplot(3, 10, offset + idx + 1)\n",
        "    plt.xticks([])\n",
        "    plt.yticks([])\n",
        "    test_image = np.reshape(test_image, shape)\n",
        "    plt.imshow(test_image, cmap='gray')\n",
        "\n",
        "\n",
        "def display_results(disp_input_images, disp_encoded, disp_predicted, enc_shape=(8,4)):\n",
        "  '''Displays the input, encoded, and decoded output values.'''\n",
        "  plt.figure(figsize=(15, 5))\n",
        "  display_one_row(disp_input_images, 0, shape=(28,28,))\n",
        "  display_one_row(disp_encoded, 10, shape=enc_shape)\n",
        "  display_one_row(disp_predicted, 20, shape=(28,28,))"
      ],
      "execution_count": 17,
      "outputs": []
    },
    {
      "cell_type": "code",
      "metadata": {
        "colab": {
          "base_uri": "https://localhost:8080/",
          "height": 297
        },
        "id": "FKS2tazC7Xlv",
        "outputId": "f09b8f32-7852-4377-a924-a1836b5e161d"
      },
      "source": [
        "# take 1 batch of the dataset\n",
        "test_dataset = test_dataset.take(1)\n",
        "\n",
        "# take the input images and put them in a list\n",
        "output_samples = []\n",
        "for input_image, image in tfds.as_numpy(test_dataset):\n",
        "      output_samples = input_image\n",
        "\n",
        "# pick 10 random numbers to be used as indices to the list above\n",
        "idxs = np.random.choice(BATCH_SIZE, size=10)\n",
        "\n",
        "# get the encoder output\n",
        "encoded_predicted = encoder_model.predict(test_dataset)\n",
        "\n",
        "# get a prediction for the test batch\n",
        "simple_predicted = auto_encoder_mnist.predict(test_dataset)\n",
        "\n",
        "# display the 10 samples, encodings and decoded values!\n",
        "display_results(output_samples[idxs], encoded_predicted[idxs], simple_predicted[idxs])"
      ],
      "execution_count": 18,
      "outputs": [
        {
          "output_type": "display_data",
          "data": {
            "image/png": "[encoded data removed]",
            "text/plain": [
              "<Figure size 1080x360 with 30 Axes>"
            ]
          },
          "metadata": {}
        }
      ]
    }
  ]
}